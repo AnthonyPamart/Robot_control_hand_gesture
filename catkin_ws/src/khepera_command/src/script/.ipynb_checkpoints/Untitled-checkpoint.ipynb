{
 "cells": [
  {
   "cell_type": "code",
   "execution_count": 6,
   "metadata": {},
   "outputs": [],
   "source": [
    "import cv2\n",
    "import numpy as np\n",
    "from fourier_descriptors import truncate, normalize, get_descriptors\n",
    "from preprocess import threshold, get_contour\n",
    "from sklearn.externals import joblib"
   ]
  },
  {
   "cell_type": "code",
   "execution_count": 16,
   "metadata": {},
   "outputs": [
    {
     "name": "stdout",
     "output_type": "stream",
     "text": [
      "hello1\n",
      "hello1\n",
      "hello1\n",
      "hello1\n",
      "hello2\n",
      "hello22\n",
      "hello2bis\n",
      "hello2ter\n",
      "hello2bis\n",
      "hello2ter\n",
      "hello2bis\n",
      "hello2ter\n",
      "hello2bis\n",
      "hello2ter\n",
      "hello2bis\n",
      "hello2ter\n",
      "hello3\n",
      "hello4\n",
      "STOP\n",
      "hello5\n"
     ]
    }
   ],
   "source": [
    "import time\n",
    "debut = time.time()\n",
    "kmax = 25\n",
    "most_probable_class = None\n",
    "all_descriptors = []\n",
    "cap = cv2.VideoCapture(0)\n",
    "cv2.startWindowThread()\n",
    "ramp_frames = 1\n",
    "nb_of_images = 5\n",
    "\n",
    "clf_fnn = joblib.load('model_fnn.pkl')\n",
    "clf_knn = joblib.load('model_fnn.pkl')\n",
    "clf_svm = joblib.load('model_fnn.pkl')\n",
    "classes = clf_fnn.classes_\n",
    "\n",
    "list_of_images = []\n",
    "while_cond = True\n",
    "if cap.isOpened():\n",
    "    while while_cond:\n",
    "        print(\"hello1\")\n",
    "        if len(list_of_images)<nb_of_images-1:\n",
    "            ret, img_bgr = cap.read()\n",
    "            if(img_bgr is not None):\n",
    "                list_of_images.append(img_bgr)\n",
    "\n",
    "        if(len(list_of_images)==nb_of_images-1):\n",
    "            while_cond = False\n",
    "            print(\"hello2\")\n",
    "            ret, img = cap.read()\n",
    "            print(\"hello22\")\n",
    "            list_of_images.append(img)\n",
    "            for img_bgr in list_of_images:\n",
    "                print(\"hello2bis\")\n",
    "                img_rgb = cv2.cvtColor(img_bgr, cv2.COLOR_BGR2RGB)\n",
    "                print(\"hello2ter\")\n",
    "                img_rgb = threshold(img_rgb)\n",
    "                hand_contour = get_contour(img_rgb)    \n",
    "                fourier_descriptors,freqs = get_descriptors(hand_contour)\n",
    "                selected_descriptors, selected_freqs = truncate(fourier_descriptors, freqs, kmax)\n",
    "                normalized_descriptors = normalize(selected_descriptors, kmax)\n",
    "                all_descriptors.append(abs(normalized_descriptors))\n",
    "            cap.release()  \n",
    "            print(\"hello3\")\n",
    "            prediction_fnn = clf_fnn.predict_proba(all_descriptors)\n",
    "            prediction_svm = clf_svm.predict_proba(all_descriptors)\n",
    "            prediction_knn = clf_knn.predict_proba(all_descriptors)\n",
    "            print(\"hello4\")\n",
    "            prediction_proba = (prediction_fnn + prediction_knn + prediction_svm) / 3\n",
    "            prediction = [ classes[np.argmax(x)] for x in prediction_proba]\n",
    "\n",
    "            predicted_class_occurences = {'STOP':list(prediction).count('STOP'),\n",
    "                                          'RIGHT': list(prediction).count('RIGHT'),\n",
    "                                          'LEFT' : list(prediction).count('LEFT'), \n",
    "                                          'GO' : list(prediction).count('GO')}\n",
    "\n",
    "            most_probable_class = max(predicted_class_occurences.keys(), \n",
    "                                        key=(lambda k: predicted_class_occurences[k]))\n",
    "            print(most_probable_class)\n",
    "            print(\"hello5\")"
   ]
  },
  {
   "cell_type": "code",
   "execution_count": 8,
   "metadata": {},
   "outputs": [
    {
     "data": {
      "text/plain": [
       "'STOP'"
      ]
     },
     "execution_count": 8,
     "metadata": {},
     "output_type": "execute_result"
    }
   ],
   "source": [
    "most_probable_class"
   ]
  },
  {
   "cell_type": "code",
   "execution_count": null,
   "metadata": {},
   "outputs": [],
   "source": []
  }
 ],
 "metadata": {
  "kernelspec": {
   "display_name": "Python 2",
   "language": "python",
   "name": "python2"
  },
  "language_info": {
   "codemirror_mode": {
    "name": "ipython",
    "version": 2
   },
   "file_extension": ".py",
   "mimetype": "text/x-python",
   "name": "python",
   "nbconvert_exporter": "python",
   "pygments_lexer": "ipython2",
   "version": "2.7.12"
  }
 },
 "nbformat": 4,
 "nbformat_minor": 2
}
