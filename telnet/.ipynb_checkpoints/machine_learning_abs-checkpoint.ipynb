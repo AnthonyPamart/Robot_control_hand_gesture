{
 "cells": [
  {
   "cell_type": "code",
   "execution_count": 75,
   "metadata": {
    "collapsed": true
   },
   "outputs": [],
   "source": [
    "from sklearn.cluster import KMeans\n",
    "from sklearn.neighbors import KNeighborsClassifier, NearestNeighbors\n",
    "from sklearn.model_selection import cross_val_score\n",
    "import sys\n",
    "import numpy as np\n",
    "import matplotlib.pyplot as plt\n",
    "from sklearn.model_selection import train_test_split\n",
    "import cv2\n",
    "import pandas"
   ]
  },
  {
   "cell_type": "code",
   "execution_count": 76,
   "metadata": {
    "collapsed": true
   },
   "outputs": [],
   "source": [
    "dataset = pandas.read_csv('/Users/anthonypamart/Documents/SIR/EL_ROS/ROBOT_IMAGE_CONTROL/dataset_norm.csv', delimiter=',').sort_values(by='move_type')"
   ]
  },
  {
   "cell_type": "code",
   "execution_count": 77,
   "metadata": {},
   "outputs": [
    {
     "data": {
      "text/html": [
       "<div>\n",
       "<style>\n",
       "    .dataframe thead tr:only-child th {\n",
       "        text-align: right;\n",
       "    }\n",
       "\n",
       "    .dataframe thead th {\n",
       "        text-align: left;\n",
       "    }\n",
       "\n",
       "    .dataframe tbody tr th {\n",
       "        vertical-align: top;\n",
       "    }\n",
       "</style>\n",
       "<table border=\"1\" class=\"dataframe\">\n",
       "  <thead>\n",
       "    <tr style=\"text-align: right;\">\n",
       "      <th></th>\n",
       "      <th>move_type</th>\n",
       "      <th>d_0</th>\n",
       "      <th>d_1</th>\n",
       "      <th>d_2</th>\n",
       "      <th>d_3</th>\n",
       "      <th>d_4</th>\n",
       "      <th>d_5</th>\n",
       "      <th>d_6</th>\n",
       "      <th>d_7</th>\n",
       "      <th>d_8</th>\n",
       "      <th>...</th>\n",
       "      <th>d_-10</th>\n",
       "      <th>d_-9</th>\n",
       "      <th>d_-8</th>\n",
       "      <th>d_-7</th>\n",
       "      <th>d_-6</th>\n",
       "      <th>d_-5</th>\n",
       "      <th>d_-4</th>\n",
       "      <th>d_-3</th>\n",
       "      <th>d_-2</th>\n",
       "      <th>d_-1</th>\n",
       "    </tr>\n",
       "  </thead>\n",
       "  <tbody>\n",
       "    <tr>\n",
       "      <th>150</th>\n",
       "      <td>GO</td>\n",
       "      <td>2.170722e-16</td>\n",
       "      <td>1.0</td>\n",
       "      <td>0.384187</td>\n",
       "      <td>0.208813</td>\n",
       "      <td>0.216921</td>\n",
       "      <td>0.038474</td>\n",
       "      <td>0.110350</td>\n",
       "      <td>0.082350</td>\n",
       "      <td>0.097247</td>\n",
       "      <td>...</td>\n",
       "      <td>0.009643</td>\n",
       "      <td>0.048340</td>\n",
       "      <td>0.023341</td>\n",
       "      <td>0.128363</td>\n",
       "      <td>0.092402</td>\n",
       "      <td>0.060743</td>\n",
       "      <td>0.192700</td>\n",
       "      <td>0.030283</td>\n",
       "      <td>0.082370</td>\n",
       "      <td>0.066994</td>\n",
       "    </tr>\n",
       "    <tr>\n",
       "      <th>206</th>\n",
       "      <td>GO</td>\n",
       "      <td>1.849303e-16</td>\n",
       "      <td>1.0</td>\n",
       "      <td>0.318827</td>\n",
       "      <td>0.142795</td>\n",
       "      <td>0.089916</td>\n",
       "      <td>0.028816</td>\n",
       "      <td>0.116524</td>\n",
       "      <td>0.096799</td>\n",
       "      <td>0.066367</td>\n",
       "      <td>...</td>\n",
       "      <td>0.038999</td>\n",
       "      <td>0.037991</td>\n",
       "      <td>0.031443</td>\n",
       "      <td>0.057793</td>\n",
       "      <td>0.117156</td>\n",
       "      <td>0.110077</td>\n",
       "      <td>0.142238</td>\n",
       "      <td>0.076322</td>\n",
       "      <td>0.082293</td>\n",
       "      <td>0.120068</td>\n",
       "    </tr>\n",
       "    <tr>\n",
       "      <th>205</th>\n",
       "      <td>GO</td>\n",
       "      <td>2.640244e-16</td>\n",
       "      <td>1.0</td>\n",
       "      <td>0.252896</td>\n",
       "      <td>0.102374</td>\n",
       "      <td>0.027737</td>\n",
       "      <td>0.034839</td>\n",
       "      <td>0.062714</td>\n",
       "      <td>0.102908</td>\n",
       "      <td>0.059627</td>\n",
       "      <td>...</td>\n",
       "      <td>0.040863</td>\n",
       "      <td>0.019640</td>\n",
       "      <td>0.059791</td>\n",
       "      <td>0.043802</td>\n",
       "      <td>0.119923</td>\n",
       "      <td>0.051821</td>\n",
       "      <td>0.097050</td>\n",
       "      <td>0.069223</td>\n",
       "      <td>0.102702</td>\n",
       "      <td>0.170406</td>\n",
       "    </tr>\n",
       "    <tr>\n",
       "      <th>204</th>\n",
       "      <td>GO</td>\n",
       "      <td>2.730378e-16</td>\n",
       "      <td>1.0</td>\n",
       "      <td>0.327660</td>\n",
       "      <td>0.102242</td>\n",
       "      <td>0.027937</td>\n",
       "      <td>0.032844</td>\n",
       "      <td>0.111945</td>\n",
       "      <td>0.120641</td>\n",
       "      <td>0.036026</td>\n",
       "      <td>...</td>\n",
       "      <td>0.017423</td>\n",
       "      <td>0.021744</td>\n",
       "      <td>0.040593</td>\n",
       "      <td>0.011396</td>\n",
       "      <td>0.154387</td>\n",
       "      <td>0.088928</td>\n",
       "      <td>0.064369</td>\n",
       "      <td>0.077308</td>\n",
       "      <td>0.095720</td>\n",
       "      <td>0.182527</td>\n",
       "    </tr>\n",
       "    <tr>\n",
       "      <th>203</th>\n",
       "      <td>GO</td>\n",
       "      <td>3.719606e-16</td>\n",
       "      <td>1.0</td>\n",
       "      <td>0.357169</td>\n",
       "      <td>0.143961</td>\n",
       "      <td>0.071896</td>\n",
       "      <td>0.071706</td>\n",
       "      <td>0.130099</td>\n",
       "      <td>0.074283</td>\n",
       "      <td>0.085000</td>\n",
       "      <td>...</td>\n",
       "      <td>0.005645</td>\n",
       "      <td>0.004887</td>\n",
       "      <td>0.047136</td>\n",
       "      <td>0.067699</td>\n",
       "      <td>0.116815</td>\n",
       "      <td>0.142041</td>\n",
       "      <td>0.080959</td>\n",
       "      <td>0.091715</td>\n",
       "      <td>0.048963</td>\n",
       "      <td>0.155147</td>\n",
       "    </tr>\n",
       "  </tbody>\n",
       "</table>\n",
       "<p>5 rows × 52 columns</p>\n",
       "</div>"
      ],
      "text/plain": [
       "    move_type           d_0  d_1       d_2       d_3       d_4       d_5  \\\n",
       "150        GO  2.170722e-16  1.0  0.384187  0.208813  0.216921  0.038474   \n",
       "206        GO  1.849303e-16  1.0  0.318827  0.142795  0.089916  0.028816   \n",
       "205        GO  2.640244e-16  1.0  0.252896  0.102374  0.027737  0.034839   \n",
       "204        GO  2.730378e-16  1.0  0.327660  0.102242  0.027937  0.032844   \n",
       "203        GO  3.719606e-16  1.0  0.357169  0.143961  0.071896  0.071706   \n",
       "\n",
       "          d_6       d_7       d_8    ...        d_-10      d_-9      d_-8  \\\n",
       "150  0.110350  0.082350  0.097247    ...     0.009643  0.048340  0.023341   \n",
       "206  0.116524  0.096799  0.066367    ...     0.038999  0.037991  0.031443   \n",
       "205  0.062714  0.102908  0.059627    ...     0.040863  0.019640  0.059791   \n",
       "204  0.111945  0.120641  0.036026    ...     0.017423  0.021744  0.040593   \n",
       "203  0.130099  0.074283  0.085000    ...     0.005645  0.004887  0.047136   \n",
       "\n",
       "         d_-7      d_-6      d_-5      d_-4      d_-3      d_-2      d_-1  \n",
       "150  0.128363  0.092402  0.060743  0.192700  0.030283  0.082370  0.066994  \n",
       "206  0.057793  0.117156  0.110077  0.142238  0.076322  0.082293  0.120068  \n",
       "205  0.043802  0.119923  0.051821  0.097050  0.069223  0.102702  0.170406  \n",
       "204  0.011396  0.154387  0.088928  0.064369  0.077308  0.095720  0.182527  \n",
       "203  0.067699  0.116815  0.142041  0.080959  0.091715  0.048963  0.155147  \n",
       "\n",
       "[5 rows x 52 columns]"
      ]
     },
     "execution_count": 77,
     "metadata": {},
     "output_type": "execute_result"
    }
   ],
   "source": [
    "dataset.head()"
   ]
  },
  {
   "cell_type": "code",
   "execution_count": 78,
   "metadata": {
    "collapsed": true
   },
   "outputs": [],
   "source": [
    "labels = dataset['move_type']\n",
    "\n",
    "columns = [item for item in list(dataset.columns) if item!='move_type']\n",
    "features = dataset[columns]"
   ]
  },
  {
   "cell_type": "code",
   "execution_count": 79,
   "metadata": {
    "collapsed": true
   },
   "outputs": [],
   "source": [
    "X_train, X_test, y_train, y_test = train_test_split(features.values, labels.values, test_size=0.33, random_state=42)"
   ]
  },
  {
   "cell_type": "code",
   "execution_count": 80,
   "metadata": {},
   "outputs": [
    {
     "name": "stdout",
     "output_type": "stream",
     "text": [
      "[ 0.40990252  0.20478396  0.12797867  0.06500232  0.04287148  0.03528302\n",
      "  0.02478489  0.02111221  0.015664    0.01037766  0.0084124   0.00597134\n",
      "  0.00424799  0.00330052  0.00299144]\n",
      "[ 2.57728432  1.82167127  1.44009398  1.02632869  0.83350132  0.7561447\n",
      "  0.63374639  0.58490976  0.50381761  0.41008305  0.36921721  0.31106988\n",
      "  0.26236987  0.23126683  0.2201722 ]\n"
     ]
    }
   ],
   "source": [
    "from sklearn.decomposition import PCA\n",
    "pca = PCA(n_components=15)\n",
    "\n",
    "X_train_pca = pca.fit_transform(X_train)\n",
    "X_test_pca = pca.fit_transform(X_test)\n",
    "\n",
    "print(pca.explained_variance_ratio_)  \n",
    "print(pca.singular_values_)"
   ]
  },
  {
   "cell_type": "markdown",
   "metadata": {},
   "source": [
    "# K-Means clustering"
   ]
  },
  {
   "cell_type": "code",
   "execution_count": 6,
   "metadata": {
    "collapsed": true
   },
   "outputs": [],
   "source": [
    "n_clusters = 134\n",
    "score = []\n",
    "validation = []\n",
    "for i in range(2,n_clusters):\n",
    "    \n",
    "    kmeans = KMeans(n_clusters=i, random_state=0).fit(X_train)\n",
    "    score.append(kmeans.score(X_test, y_test))\n",
    "    validation.append(kmeans.score(X_train, y_train))\n"
   ]
  },
  {
   "cell_type": "code",
   "execution_count": 7,
   "metadata": {
    "scrolled": true
   },
   "outputs": [
    {
     "data": {
      "image/png": "[encoded data removed]",
      "text/plain": [
       "<matplotlib.figure.Figure at 0x1a197cfdd0>"
      ]
     },
     "metadata": {},
     "output_type": "display_data"
    }
   ],
   "source": [
    "plt.plot(score)\n",
    "plt.plot(validation, 'r')\n",
    "plt.show()"
   ]
  },
  {
   "cell_type": "code",
   "execution_count": 131,
   "metadata": {
    "collapsed": true
   },
   "outputs": [],
   "source": [
    "kmeans = KMeans(n_clusters=110, random_state=0, max_iter=10000).fit(X_train)"
   ]
  },
  {
   "cell_type": "code",
   "execution_count": 132,
   "metadata": {},
   "outputs": [
    {
     "data": {
      "text/plain": [
       "(110, 51)"
      ]
     },
     "execution_count": 132,
     "metadata": {},
     "output_type": "execute_result"
    }
   ],
   "source": [
    "kmeans.cluster_centers_.shape"
   ]
  },
  {
   "cell_type": "code",
   "execution_count": 133,
   "metadata": {},
   "outputs": [
    {
     "name": "stdout",
     "output_type": "stream",
     "text": [
      "[ 23  46   9 106  71 107   6 100  87  12  12  12  12  22   9 107  46  46\n",
      " 106   6   6   6  46  31  11  87   6  11  60   0  74  32  20  32  72  11\n",
      " 101  39  37   6   6  39   9  67  31  77 100 100  39]\n",
      "[ 39  81  77  31 106   9 106   9  49  22  22  39   9   9  39   9   9   9\n",
      "  88   9  88  39  73  32  46  38  38  46  46  46  81  38  98  56  23  23\n",
      "  23  56  96  98  46   0   0  22 101  72  22   9  22]\n",
      "[101  22  67 101  22  22  22  22 108   6 100  89  26 106  26   9 106  26\n",
      " 106  46 106  11  93   6  11   6  26  38 104  67  23  60  60  60  60  87\n",
      "  31  31  87  31  26  46 106   6  46  31  11  22  73]\n",
      "[ 74  74  31  74  74  31  46  37  87  74  71  71  31  71  71  39  71  71\n",
      "  39  49  56  32  32  31  12  81  46  38  31 100  23 100  23  23 100  60\n",
      "  56  56 100  26 104 108  56  46   0  98  87  96  38]\n"
     ]
    }
   ],
   "source": [
    "belong_to = kmeans.predict(features.values)\n",
    "print(belong_to[:49])\n",
    "print(belong_to[50:99])\n",
    "print(belong_to[100:149])\n",
    "print(belong_to[150:199])"
   ]
  },
  {
   "cell_type": "markdown",
   "metadata": {},
   "source": [
    "# KNN clustering"
   ]
  },
  {
   "cell_type": "code",
   "execution_count": 144,
   "metadata": {},
   "outputs": [
    {
     "data": {
      "image/png": "[encoded data removed]",
      "text/plain": [
       "<matplotlib.figure.Figure at 0x106f91a10>"
      ]
     },
     "metadata": {},
     "output_type": "display_data"
    }
   ],
   "source": [
    "# creating odd list of K for KNN\n",
    "myList = list(range(1,100))\n",
    "\n",
    "# subsetting just the odd ones\n",
    "neighbors = filter(lambda x: x % 2 != 0, myList)\n",
    "\n",
    "# empty list that will hold cv scores\n",
    "cv_scores = []\n",
    "\n",
    "# perform 10-fold cross validation\n",
    "for k in neighbors:\n",
    "    knn = KNeighborsClassifier(n_neighbors=k, weights = 'distance')\n",
    "    scores = cross_val_score(knn, X_train, y_train, cv=10, scoring='accuracy')\n",
    "    cv_scores.append(scores.mean())\n",
    "plt.plot(cv_scores)\n",
    "plt.show()"
   ]
  },
  {
   "cell_type": "code",
   "execution_count": 232,
   "metadata": {},
   "outputs": [],
   "source": [
    "knn_classifier = KNeighborsClassifier(n_neighbors=4, weights='distance').fit(X_train,y_train ) "
   ]
  },
  {
   "cell_type": "code",
   "execution_count": 233,
   "metadata": {},
   "outputs": [],
   "source": [
    "knn_belong_to = knn_classifier.predict(features.values)"
   ]
  },
  {
   "cell_type": "code",
   "execution_count": 234,
   "metadata": {},
   "outputs": [],
   "source": [
    "test_prediction = knn_classifier.predict(X_test)"
   ]
  },
  {
   "cell_type": "code",
   "execution_count": 235,
   "metadata": {
    "scrolled": true
   },
   "outputs": [
    {
     "name": "stdout",
     "output_type": "stream",
     "text": [
      "6.79012345679\n",
      "22.0\n"
     ]
    }
   ],
   "source": [
    "missclassified = 0.0\n",
    "for i in range(len(y_test)):\n",
    "    if y_test[i] != test_prediction[i]: \n",
    "        missclassified = missclassified +1\n",
    "print(missclassified/len(y_test)*100)\n",
    "print(missclassified)"
   ]
  },
  {
   "cell_type": "code",
   "execution_count": 236,
   "metadata": {
    "scrolled": true
   },
   "outputs": [
    {
     "name": "stdout",
     "output_type": "stream",
     "text": [
      "0.91640956266\n"
     ]
    }
   ],
   "source": [
    "from sklearn.model_selection import cross_val_score\n",
    "print(cross_val_score(knn_classifier, X_test, y_test,scoring='accuracy', cv=5).mean())"
   ]
  },
  {
   "cell_type": "markdown",
   "metadata": {},
   "source": [
    "## Feedforward Neural Network "
   ]
  },
  {
   "cell_type": "code",
   "execution_count": 141,
   "metadata": {},
   "outputs": [],
   "source": [
    "from sklearn.neural_network import MLPClassifier\n",
    "clf = MLPClassifier(solver='lbfgs',\n",
    "                     hidden_layer_sizes=(50), random_state=1, \n",
    "                     max_iter = 10000, early_stopping=True, activation = 'logistic')\n",
    "\n",
    "clf.fit(X_train,y_train)                         \n",
    "test_fnn_prediction = clf.predict(X_test)\n",
    "test_fnn_overfit = clf.predict(X_train)"
   ]
  },
  {
   "cell_type": "code",
   "execution_count": 142,
   "metadata": {
    "scrolled": false
   },
   "outputs": [
    {
     "name": "stdout",
     "output_type": "stream",
     "text": [
      "0.904397963148\n"
     ]
    }
   ],
   "source": [
    "from sklearn.model_selection import cross_val_score\n",
    "print(cross_val_score(clf, X_test, y_test, cv=5).mean())"
   ]
  },
  {
   "cell_type": "code",
   "execution_count": 408,
   "metadata": {},
   "outputs": [
    {
     "name": "stdout",
     "output_type": "stream",
     "text": [
      "LEFT missclassified as RIGHT\n",
      "LEFT missclassified as RIGHT\n",
      "RIGHT missclassified as LEFT\n",
      "LEFT missclassified as RIGHT\n",
      "RIGHT missclassified as LEFT\n",
      "LEFT missclassified as RIGHT\n",
      "RIGHT missclassified as LEFT\n",
      "RIGHT missclassified as LEFT\n",
      "LEFT missclassified as RIGHT\n",
      "LEFT missclassified as RIGHT\n",
      "LEFT missclassified as RIGHT\n",
      "RIGHT missclassified as LEFT\n",
      "LEFT missclassified as RIGHT\n",
      "LEFT missclassified as RIGHT\n",
      "LEFT missclassified as RIGHT\n",
      "LEFT missclassified as RIGHT\n",
      "LEFT missclassified as RIGHT\n",
      "LEFT missclassified as RIGHT\n",
      "LEFT missclassified as RIGHT\n",
      "LEFT missclassified as RIGHT\n",
      "RIGHT missclassified as LEFT\n",
      "LEFT missclassified as RIGHT\n",
      "STOP missclassified as RIGHT\n",
      "LEFT missclassified as RIGHT\n",
      "RIGHT missclassified as LEFT\n",
      "LEFT missclassified as RIGHT\n",
      "8.02469135802\n",
      "26.0\n"
     ]
    }
   ],
   "source": [
    "count = 0.0\n",
    "for i in range(len(y_test)):\n",
    "    if y_test[i] != test_fnn_prediction[i]: \n",
    "        print(\"{} missclassified as {}\".format(y_test[i], test_fnn_prediction[i]))\n",
    "        count +=1\n",
    "        \n",
    "print(count/len(y_test)*100)\n",
    "print(count)"
   ]
  },
  {
   "cell_type": "code",
   "execution_count": 409,
   "metadata": {},
   "outputs": [
    {
     "name": "stdout",
     "output_type": "stream",
     "text": [
      "LEFT missclassified as RIGHT\n",
      "RIGHT missclassified as LEFT\n",
      "RIGHT missclassified as LEFT\n",
      "LEFT missclassified as RIGHT\n",
      "RIGHT missclassified as LEFT\n",
      "LEFT missclassified as RIGHT\n",
      "RIGHT missclassified as LEFT\n",
      "LEFT missclassified as RIGHT\n",
      "LEFT missclassified as RIGHT\n",
      "5.33536585366\n"
     ]
    }
   ],
   "source": [
    "for i in range(len(y_train)):\n",
    "    if y_train[i] != test_fnn_overfit[i]: \n",
    "        print(\"{} missclassified as {}\".format(y_train[i], test_fnn_overfit[i]))\n",
    "        count +=1\n",
    "        \n",
    "print(count/len(y_train)*100)"
   ]
  },
  {
   "cell_type": "markdown",
   "metadata": {},
   "source": [
    "## Naive Bayes"
   ]
  },
  {
   "cell_type": "code",
   "execution_count": 54,
   "metadata": {
    "scrolled": true
   },
   "outputs": [
    {
     "name": "stdout",
     "output_type": "stream",
     "text": [
      "Number of mislabeled points out of a total 656 points : 85\n",
      "0.719289135076\n"
     ]
    }
   ],
   "source": [
    "from sklearn.naive_bayes import GaussianNB\n",
    "gnb = GaussianNB()\n",
    "y_pred = gnb.fit(X_train, y_train).predict(X_test)\n",
    "print(\"Number of mislabeled points out of a total %d points : %d\"\n",
    "      % (X_train.shape[0],(y_test != y_pred).sum()))\n",
    "\n",
    "print(cross_val_score(gnb, X_test, y_test).mean()) "
   ]
  },
  {
   "cell_type": "markdown",
   "metadata": {},
   "source": [
    "## SVC"
   ]
  },
  {
   "cell_type": "code",
   "execution_count": 7,
   "metadata": {},
   "outputs": [
    {
     "name": "stdout",
     "output_type": "stream",
     "text": [
      "0.892276751027\n"
     ]
    }
   ],
   "source": [
    "from sklearn.svm import SVC\n",
    "svc = SVC(C=1000, kernel='rbf', gamma = 0.3)\n",
    "svc.fit(X_train, y_train) \n",
    "y_pred = clf.predict(X_test)\n",
    "\n",
    "print(cross_val_score(svc, X_test, y_test, cv=5).mean()) "
   ]
  },
  {
   "cell_type": "markdown",
   "metadata": {},
   "source": [
    "## Random Forest"
   ]
  },
  {
   "cell_type": "code",
   "execution_count": 53,
   "metadata": {},
   "outputs": [
    {
     "name": "stdout",
     "output_type": "stream",
     "text": [
      "0.876453338328\n"
     ]
    }
   ],
   "source": [
    "from sklearn.ensemble import RandomForestClassifier\n",
    "rf = RandomForestClassifier(n_estimators=31, max_depth=None, random_state=0)\n",
    "rf.fit(X_train, y_train)\n",
    "y_pred = rf.predict(X_test)\n",
    "\n",
    "print(cross_val_score(rf, X_test, y_test, cv=5).mean()) "
   ]
  },
  {
   "cell_type": "markdown",
   "metadata": {},
   "source": [
    "## Adaboost"
   ]
  },
  {
   "cell_type": "code",
   "execution_count": 63,
   "metadata": {},
   "outputs": [
    {
     "name": "stdout",
     "output_type": "stream",
     "text": [
      "0.730786643912\n"
     ]
    }
   ],
   "source": [
    "from sklearn.ensemble import  AdaBoostClassifier\n",
    "ada = AdaBoostClassifier(n_estimators=40, algorithm ='SAMME')\n",
    "ada.fit(X_train, y_train)\n",
    "y_pred = ada.predict(X_test)\n",
    "\n",
    "print(cross_val_score(ada, X_test, y_test, cv=5).mean()) "
   ]
  },
  {
   "cell_type": "code",
   "execution_count": 70,
   "metadata": {},
   "outputs": [],
   "source": [
    "cv_score = []\n",
    "for i in range(1,250, 20):\n",
    "    ada = AdaBoostClassifier(n_estimators=i, algorithm ='SAMME')\n",
    "    ada.fit(X_train, y_train)\n",
    "    y_pred = ada.predict(X_test)\n",
    "    cv_score.append(cross_val_score(ada, X_test, y_test, cv=5).mean())\n"
   ]
  },
  {
   "cell_type": "code",
   "execution_count": 74,
   "metadata": {},
   "outputs": [
    {
     "data": {
      "image/png": "[encoded data removed]",
      "text/plain": [
       "<matplotlib.figure.Figure at 0x1a1ca9ec90>"
      ]
     },
     "metadata": {},
     "output_type": "display_data"
    }
   ],
   "source": [
    "plt.plot( range(1,500, 20),cv_score)\n",
    "plt.show()"
   ]
  },
  {
   "cell_type": "code",
   "execution_count": null,
   "metadata": {},
   "outputs": [],
   "source": []
  },
  {
   "cell_type": "code",
   "execution_count": null,
   "metadata": {
    "collapsed": true
   },
   "outputs": [],
   "source": []
  }
 ],
 "metadata": {
  "kernelspec": {
   "display_name": "Python 2",
   "language": "python",
   "name": "python2"
  },
  "language_info": {
   "codemirror_mode": {
    "name": "ipython",
    "version": 2
   },
   "file_extension": ".py",
   "mimetype": "text/x-python",
   "name": "python",
   "nbconvert_exporter": "python",
   "pygments_lexer": "ipython2",
   "version": "2.7.13"
  }
 },
 "nbformat": 4,
 "nbformat_minor": 2
}
