{
 "cells": [
  {
   "cell_type": "code",
   "execution_count": 1,
   "metadata": {},
   "outputs": [],
   "source": [
    "from sklearn.cluster import KMeans\n",
    "from sklearn.neighbors import KNeighborsClassifier, NearestNeighbors\n",
    "from sklearn.model_selection import cross_val_score\n",
    "import sys \n",
    "import numpy as np\n",
    "import matplotlib.pyplot as plts\n",
    "from sklearn.model_selection import train_test_split\n",
    "import cv2\n",
    "import pandas"
   ]
  },
  {
   "cell_type": "code",
   "execution_count": 10,
   "metadata": {},
   "outputs": [],
   "source": [
    "dataset = pandas.read_csv('../dataset.csv', delimiter=',').sort_values(by='move_type').drop('Unnamed: 143', 1)\n"
   ]
  },
  {
   "cell_type": "code",
   "execution_count": 11,
   "metadata": {},
   "outputs": [
    {
     "data": {
      "text/html": [
       "<div>\n",
       "<table border=\"1\" class=\"dataframe\">\n",
       "  <thead>\n",
       "    <tr style=\"text-align: right;\">\n",
       "      <th></th>\n",
       "      <th>move_type</th>\n",
       "      <th>descr_number_0_x</th>\n",
       "      <th>descr_number_0_y</th>\n",
       "      <th>descr_number_1_x</th>\n",
       "      <th>descr_number_1_y</th>\n",
       "      <th>descr_number_2_x</th>\n",
       "      <th>descr_number_2_y</th>\n",
       "      <th>descr_number_3_x</th>\n",
       "      <th>descr_number_3_y</th>\n",
       "      <th>descr_number_4_x</th>\n",
       "      <th>...</th>\n",
       "      <th>descr_number_-5_x</th>\n",
       "      <th>descr_number_-5_y</th>\n",
       "      <th>descr_number_-4_x</th>\n",
       "      <th>descr_number_-4_y</th>\n",
       "      <th>descr_number_-3_x</th>\n",
       "      <th>descr_number_-3_y</th>\n",
       "      <th>descr_number_-2_x</th>\n",
       "      <th>descr_number_-2_y</th>\n",
       "      <th>descr_number_-1_x</th>\n",
       "      <th>descr_number_-1_y</th>\n",
       "    </tr>\n",
       "  </thead>\n",
       "  <tbody>\n",
       "    <tr>\n",
       "      <th>150</th>\n",
       "      <td>GO</td>\n",
       "      <td>-9.586957e-17</td>\n",
       "      <td>1.947546e-16</td>\n",
       "      <td>0.329512</td>\n",
       "      <td>0.944152</td>\n",
       "      <td>0.371882</td>\n",
       "      <td>-0.096455</td>\n",
       "      <td>-0.013950</td>\n",
       "      <td>-0.208346</td>\n",
       "      <td>-0.216089</td>\n",
       "      <td>...</td>\n",
       "      <td>0.023832</td>\n",
       "      <td>-0.055872</td>\n",
       "      <td>-0.148591</td>\n",
       "      <td>0.122695</td>\n",
       "      <td>0.027279</td>\n",
       "      <td>-0.013152</td>\n",
       "      <td>0.022872</td>\n",
       "      <td>0.079131</td>\n",
       "      <td>0.022075</td>\n",
       "      <td>-0.063252</td>\n",
       "    </tr>\n",
       "    <tr>\n",
       "      <th>206</th>\n",
       "      <td>GO</td>\n",
       "      <td>-6.136932e-17</td>\n",
       "      <td>-1.744506e-16</td>\n",
       "      <td>-0.331556</td>\n",
       "      <td>0.943436</td>\n",
       "      <td>0.220299</td>\n",
       "      <td>0.230476</td>\n",
       "      <td>0.142787</td>\n",
       "      <td>-0.001575</td>\n",
       "      <td>0.065415</td>\n",
       "      <td>...</td>\n",
       "      <td>-0.098383</td>\n",
       "      <td>0.049373</td>\n",
       "      <td>0.135058</td>\n",
       "      <td>0.044619</td>\n",
       "      <td>0.076037</td>\n",
       "      <td>-0.006590</td>\n",
       "      <td>0.076453</td>\n",
       "      <td>-0.030447</td>\n",
       "      <td>-0.039809</td>\n",
       "      <td>-0.113276</td>\n",
       "    </tr>\n",
       "    <tr>\n",
       "      <th>205</th>\n",
       "      <td>GO</td>\n",
       "      <td>2.597293e-16</td>\n",
       "      <td>4.742989e-17</td>\n",
       "      <td>-0.582148</td>\n",
       "      <td>0.813083</td>\n",
       "      <td>0.058768</td>\n",
       "      <td>0.245973</td>\n",
       "      <td>0.052853</td>\n",
       "      <td>0.087676</td>\n",
       "      <td>0.027368</td>\n",
       "      <td>...</td>\n",
       "      <td>-0.043858</td>\n",
       "      <td>0.027601</td>\n",
       "      <td>0.083614</td>\n",
       "      <td>-0.049267</td>\n",
       "      <td>0.040450</td>\n",
       "      <td>-0.056175</td>\n",
       "      <td>0.056882</td>\n",
       "      <td>-0.085511</td>\n",
       "      <td>-0.099202</td>\n",
       "      <td>-0.138554</td>\n",
       "    </tr>\n",
       "    <tr>\n",
       "      <th>204</th>\n",
       "      <td>GO</td>\n",
       "      <td>1.491136e-16</td>\n",
       "      <td>2.287242e-16</td>\n",
       "      <td>-0.580837</td>\n",
       "      <td>0.814020</td>\n",
       "      <td>0.119369</td>\n",
       "      <td>0.305142</td>\n",
       "      <td>0.065140</td>\n",
       "      <td>0.078804</td>\n",
       "      <td>0.027761</td>\n",
       "      <td>...</td>\n",
       "      <td>0.002701</td>\n",
       "      <td>0.088887</td>\n",
       "      <td>0.054979</td>\n",
       "      <td>-0.033476</td>\n",
       "      <td>0.028367</td>\n",
       "      <td>-0.071916</td>\n",
       "      <td>0.029444</td>\n",
       "      <td>-0.091079</td>\n",
       "      <td>-0.106018</td>\n",
       "      <td>-0.148580</td>\n",
       "    </tr>\n",
       "    <tr>\n",
       "      <th>203</th>\n",
       "      <td>GO</td>\n",
       "      <td>3.158017e-16</td>\n",
       "      <td>1.965297e-16</td>\n",
       "      <td>-0.140147</td>\n",
       "      <td>0.990131</td>\n",
       "      <td>0.312879</td>\n",
       "      <td>0.172269</td>\n",
       "      <td>0.125018</td>\n",
       "      <td>-0.071382</td>\n",
       "      <td>0.058858</td>\n",
       "      <td>...</td>\n",
       "      <td>-0.124384</td>\n",
       "      <td>0.068589</td>\n",
       "      <td>0.072961</td>\n",
       "      <td>0.035087</td>\n",
       "      <td>0.091662</td>\n",
       "      <td>0.003118</td>\n",
       "      <td>0.044855</td>\n",
       "      <td>-0.019632</td>\n",
       "      <td>-0.021743</td>\n",
       "      <td>-0.153616</td>\n",
       "    </tr>\n",
       "  </tbody>\n",
       "</table>\n",
       "<p>5 rows × 143 columns</p>\n",
       "</div>"
      ],
      "text/plain": [
       "    move_type  descr_number_0_x  descr_number_0_y  descr_number_1_x  \\\n",
       "150        GO     -9.586957e-17      1.947546e-16          0.329512   \n",
       "206        GO     -6.136932e-17     -1.744506e-16         -0.331556   \n",
       "205        GO      2.597293e-16      4.742989e-17         -0.582148   \n",
       "204        GO      1.491136e-16      2.287242e-16         -0.580837   \n",
       "203        GO      3.158017e-16      1.965297e-16         -0.140147   \n",
       "\n",
       "     descr_number_1_y  descr_number_2_x  descr_number_2_y  descr_number_3_x  \\\n",
       "150          0.944152          0.371882         -0.096455         -0.013950   \n",
       "206          0.943436          0.220299          0.230476          0.142787   \n",
       "205          0.813083          0.058768          0.245973          0.052853   \n",
       "204          0.814020          0.119369          0.305142          0.065140   \n",
       "203          0.990131          0.312879          0.172269          0.125018   \n",
       "\n",
       "     descr_number_3_y  descr_number_4_x        ...          descr_number_-5_x  \\\n",
       "150         -0.208346         -0.216089        ...                   0.023832   \n",
       "206         -0.001575          0.065415        ...                  -0.098383   \n",
       "205          0.087676          0.027368        ...                  -0.043858   \n",
       "204          0.078804          0.027761        ...                   0.002701   \n",
       "203         -0.071382          0.058858        ...                  -0.124384   \n",
       "\n",
       "     descr_number_-5_y  descr_number_-4_x  descr_number_-4_y  \\\n",
       "150          -0.055872          -0.148591           0.122695   \n",
       "206           0.049373           0.135058           0.044619   \n",
       "205           0.027601           0.083614          -0.049267   \n",
       "204           0.088887           0.054979          -0.033476   \n",
       "203           0.068589           0.072961           0.035087   \n",
       "\n",
       "     descr_number_-3_x  descr_number_-3_y  descr_number_-2_x  \\\n",
       "150           0.027279          -0.013152           0.022872   \n",
       "206           0.076037          -0.006590           0.076453   \n",
       "205           0.040450          -0.056175           0.056882   \n",
       "204           0.028367          -0.071916           0.029444   \n",
       "203           0.091662           0.003118           0.044855   \n",
       "\n",
       "     descr_number_-2_y  descr_number_-1_x  descr_number_-1_y  \n",
       "150           0.079131           0.022075          -0.063252  \n",
       "206          -0.030447          -0.039809          -0.113276  \n",
       "205          -0.085511          -0.099202          -0.138554  \n",
       "204          -0.091079          -0.106018          -0.148580  \n",
       "203          -0.019632          -0.021743          -0.153616  \n",
       "\n",
       "[5 rows x 143 columns]"
      ]
     },
     "execution_count": 11,
     "metadata": {},
     "output_type": "execute_result"
    }
   ],
   "source": [
    "dataset.head()"
   ]
  },
  {
   "cell_type": "code",
   "execution_count": 12,
   "metadata": {},
   "outputs": [],
   "source": [
    "labels = dataset['move_type']\n",
    "\n",
    "columns = [item for item in list(dataset.columns) if item!='move_type']\n",
    "features = dataset[columns]"
   ]
  },
  {
   "cell_type": "code",
   "execution_count": 13,
   "metadata": {},
   "outputs": [],
   "source": [
    "X_train, X_test, y_train, y_test = train_test_split(features.values, labels.values, test_size=0.33, random_state=42)"
   ]
  },
  {
   "cell_type": "markdown",
   "metadata": {},
   "source": [
    "# K-Means clustering"
   ]
  },
  {
   "cell_type": "code",
   "execution_count": null,
   "metadata": {},
   "outputs": [],
   "source": [
    "n_clusters = 134\n",
    "score = []\n",
    "validation = []\n",
    "for i in range(2,n_clusters):\n",
    "    \n",
    "    kmeans = KMeans(n_clusters=i, random_state=0).fit(X_train)\n",
    "    score.append(kmeans.score(X_test, y_test))\n",
    "    validation.append(kmeans.score(X_train, y_train))\n"
   ]
  },
  {
   "cell_type": "code",
   "execution_count": null,
   "metadata": {
    "scrolled": true
   },
   "outputs": [],
   "source": [
    "plt.plot(score)\n",
    "plt.plot(validation, 'r')\n",
    "plt.show()"
   ]
  },
  {
   "cell_type": "code",
   "execution_count": null,
   "metadata": {},
   "outputs": [],
   "source": [
    "kmeans = KMeans(n_clusters=100, random_state=0, max_iter=10000).fit(X_train)"
   ]
  },
  {
   "cell_type": "code",
   "execution_count": null,
   "metadata": {},
   "outputs": [],
   "source": [
    "centers = kmeans.cluster_centers_\n"
   ]
  },
  {
   "cell_type": "code",
   "execution_count": null,
   "metadata": {},
   "outputs": [],
   "source": [
    "belong_to = kmeans.predict(features.values)\n",
    "print(belong_to[:49])\n",
    "print(belong_to[50:99])\n",
    "print(belong_to[100:149])\n",
    "print(belong_to[150:199])"
   ]
  },
  {
   "cell_type": "code",
   "execution_count": null,
   "metadata": {},
   "outputs": [],
   "source": [
    "def reconstruct(descriptors):\n",
    "    \"\"\" reconstruct the image using the normalized descriptors and plot it\n",
    "        Keyword arguments: \n",
    "         - descriptors : the normalized fourier descriptors\n",
    "    \"\"\"\n",
    "    contour_reconstruct = np.fft.ifft(descriptors)\n",
    "    contour_reconstruct = np.array(\n",
    "        [contour_reconstruct.real, contour_reconstruct.imag])\n",
    "    contour_reconstruct = np.transpose(contour_reconstruct)\n",
    "    contour_reconstruct = np.expand_dims(contour_reconstruct, axis=1)\n",
    "    # make positive\n",
    "    if contour_reconstruct.min() < 0:\n",
    "        contour_reconstruct -= contour_reconstruct.min()\n",
    "    # normalization\n",
    "    contour_reconstruct *= 800 / contour_reconstruct.max()\n",
    "    # type cast to int32\n",
    "    contour_reconstruct = contour_reconstruct.astype(np.int32, copy=False)\n",
    "    black = np.zeros((800, 800), np.uint8)\n",
    "    # draw and visualize\n",
    "    cv2.drawContours(black, contour_reconstruct, -1, 255, thickness=-1)\n",
    "    cv2.imshow(\"black\", black)\n",
    "    cv2.waitKey(10000)\n",
    "    cv2.imwrite(\"reconstruct_result.jpg\", black)\n",
    "    cv2.destroyAllWindows()"
   ]
  },
  {
   "cell_type": "markdown",
   "metadata": {},
   "source": [
    "### To run if dataset and not dataset norm "
   ]
  },
  {
   "cell_type": "code",
   "execution_count": 34,
   "metadata": {},
   "outputs": [
    {
     "data": {
      "text/plain": [
       "'GO'"
      ]
     },
     "execution_count": 34,
     "metadata": {},
     "output_type": "execute_result"
    }
   ],
   "source": [
    "img_nb = 793\n",
    "complex_descriptors = []\n",
    "for i in range(int(len(features.values[img_nb])/2)):\n",
    "    complex_descriptors.append(complex(features.values[img_nb][2*i], features.values[img_nb][2*i+1]))\n",
    "complex_descriptors\n",
    "reconstruct(complex_descriptors)\n",
    "labels[3]"
   ]
  },
  {
   "cell_type": "code",
   "execution_count": 35,
   "metadata": {},
   "outputs": [
    {
     "data": {
      "image/png": "[encoded data removed]",
      "text/plain": [
       "<matplotlib.figure.Figure at 0x7f412f482d68>"
      ]
     },
     "metadata": {},
     "output_type": "display_data"
    }
   ],
   "source": [
    "plt.scatter(X_test[7][3::2],X_test[7][2::2] )\n",
    "plt.scatter(centers[1, 0], centers[1, 1], marker='o',\n",
    "                c=\"white\", alpha=1, s=200, edgecolor='k')\n",
    "plt.show()"
   ]
  },
  {
   "cell_type": "markdown",
   "metadata": {},
   "source": [
    "# KNN clustering"
   ]
  },
  {
   "cell_type": "code",
   "execution_count": 14,
   "metadata": {},
   "outputs": [
    {
     "data": {
      "image/png": "[encoded data removed]",
      "text/plain": [
       "<matplotlib.figure.Figure at 0x7f41303d0a58>"
      ]
     },
     "metadata": {},
     "output_type": "display_data"
    }
   ],
   "source": [
    "# creating odd list of K for KNN\n",
    "myList = list(range(1,100))\n",
    "\n",
    "# subsetting just the odd ones\n",
    "neighbors = filter(lambda x: x % 2 != 0, myList)\n",
    "\n",
    "# empty list that will hold cv scores\n",
    "cv_scores = []\n",
    "\n",
    "# perform 10-fold cross validation\n",
    "for k in neighbors:\n",
    "    knn = KNeighborsClassifier(n_neighbors=k, weights = 'distance')\n",
    "    scores = cross_val_score(knn, X_train, y_train, cv=10, scoring='accuracy')\n",
    "    cv_scores.append(scores.mean())\n",
    "plt.plot(cv_scores)\n",
    "plt.show()"
   ]
  },
  {
   "cell_type": "code",
   "execution_count": 15,
   "metadata": {},
   "outputs": [],
   "source": [
    "knn_classifier = KNeighborsClassifier(n_neighbors=2, weights='distance').fit(X_train,y_train ) "
   ]
  },
  {
   "cell_type": "code",
   "execution_count": 16,
   "metadata": {},
   "outputs": [],
   "source": [
    "knn_belong_to = knn_classifier.predict(features.values)"
   ]
  },
  {
   "cell_type": "code",
   "execution_count": 17,
   "metadata": {},
   "outputs": [],
   "source": [
    "test_prediction = knn_classifier.predict(X_test)"
   ]
  },
  {
   "cell_type": "code",
   "execution_count": 18,
   "metadata": {},
   "outputs": [
    {
     "name": "stdout",
     "output_type": "stream",
     "text": [
      "8\n"
     ]
    }
   ],
   "source": [
    "missclassified = 0\n",
    "for i in range(len(y_test)):\n",
    "    if y_test[i] != test_prediction[i]: \n",
    "        missclassified = missclassified +1\n",
    "print(missclassified)"
   ]
  },
  {
   "cell_type": "markdown",
   "metadata": {},
   "source": [
    "## Feedforward Neural Network "
   ]
  },
  {
   "cell_type": "code",
   "execution_count": 19,
   "metadata": {},
   "outputs": [],
   "source": [
    "from sklearn.neural_network import MLPClassifier\n",
    "clf = MLPClassifier(solver='lbfgs',\n",
    "                     hidden_layer_sizes=(41), random_state=1, \n",
    "                     max_iter = 10000, early_stopping=True)\n",
    "\n",
    "clf.fit(X_train,y_train)                         \n",
    "test_fnn_prediction = clf.predict(X_test)\n",
    "test_fnn_overfit = clf.predict(X_train)"
   ]
  },
  {
   "cell_type": "code",
   "execution_count": 24,
   "metadata": {},
   "outputs": [
    {
     "name": "stdout",
     "output_type": "stream",
     "text": [
      "GO missclassified as LEFT number 31\n",
      "RIGHT missclassified as STOP number 32\n",
      "RIGHT missclassified as STOP number 38\n",
      "RIGHT missclassified as STOP number 40\n",
      "STOP missclassified as RIGHT number 80\n",
      "STOP missclassified as GO number 83\n",
      "STOP missclassified as GO number 85\n",
      "LEFT missclassified as RIGHT number 125\n",
      "LEFT missclassified as RIGHT number 138\n",
      "RIGHT missclassified as LEFT number 160\n",
      "LEFT missclassified as RIGHT number 165\n",
      "STOP missclassified as RIGHT number 173\n",
      "GO missclassified as STOP number 212\n",
      "STOP missclassified as RIGHT number 228\n",
      "RIGHT missclassified as GO number 253\n",
      "STOP missclassified as RIGHT number 285\n",
      "STOP missclassified as RIGHT number 287\n",
      "RIGHT missclassified as LEFT number 309\n",
      "STOP missclassified as GO number 312\n",
      "5.864197530864197\n"
     ]
    }
   ],
   "source": [
    "count = 0\n",
    "for i in range(len(y_test)):\n",
    "    if y_test[i] != test_fnn_prediction[i]: \n",
    "        print(\"{} missclassified as {} number {}\".format(y_test[i], test_fnn_prediction[i], i))\n",
    "        count +=1\n",
    "        \n",
    "print(count/len(y_test)*100)\n"
   ]
  },
  {
   "cell_type": "code",
   "execution_count": 21,
   "metadata": {},
   "outputs": [
    {
     "name": "stdout",
     "output_type": "stream",
     "text": [
      "2.8963414634146343\n"
     ]
    }
   ],
   "source": [
    "for i in range(len(y_train)):\n",
    "    if y_train[i] != test_fnn_overfit[i]: \n",
    "        print(\"{} missclassified as {}\".format(y_train[i], test_fnn_overfit[i]))\n",
    "        count +=1\n",
    "        \n",
    "print(count/len(y_train)*100)"
   ]
  },
  {
   "cell_type": "code",
   "execution_count": 33,
   "metadata": {},
   "outputs": [
    {
     "name": "stdout",
     "output_type": "stream",
     "text": [
      "GO missclassified as LEFT number 30\n",
      "GO missclassified as STOP number 77\n",
      "LEFT missclassified as RIGHT number 323\n",
      "LEFT missclassified as RIGHT number 334\n",
      "LEFT missclassified as RIGHT number 350\n",
      "RIGHT missclassified as LEFT number 462\n",
      "RIGHT missclassified as GO number 485\n",
      "RIGHT missclassified as STOP number 538\n",
      "RIGHT missclassified as STOP number 539\n",
      "RIGHT missclassified as LEFT number 568\n",
      "RIGHT missclassified as STOP number 588\n",
      "STOP missclassified as GO number 793\n",
      "STOP missclassified as GO number 803\n",
      "STOP missclassified as RIGHT number 810\n",
      "STOP missclassified as RIGHT number 820\n",
      "STOP missclassified as RIGHT number 844\n",
      "STOP missclassified as GO number 848\n",
      "STOP missclassified as RIGHT number 924\n",
      "STOP missclassified as RIGHT number 969\n",
      "7.755102040816326\n"
     ]
    }
   ],
   "source": [
    "# check the incorrect data \n",
    "dataset_prediction = clf.predict(features.values)\n",
    "for i in range(len(labels.values)):\n",
    "    if labels.values[i] != dataset_prediction[i]: \n",
    "        print(\"{} missclassified as {} number {}\".format(labels.values[i], dataset_prediction[i], i))\n",
    "        count +=1\n",
    "        \n",
    "print(count/len(labels.values)*100)"
   ]
  },
  {
   "cell_type": "code",
   "execution_count": 37,
   "metadata": {},
   "outputs": [
    {
     "data": {
      "text/plain": [
       "'GO'"
      ]
     },
     "execution_count": 37,
     "metadata": {},
     "output_type": "execute_result"
    }
   ],
   "source": [
    "img_nb = 538\n",
    "complex_descriptors = []\n",
    "for i in range(int(len(features.values[img_nb])/2)):\n",
    "    complex_descriptors.append(complex(features.values[img_nb][2*i], features.values[img_nb][2*i+1]))\n",
    "complex_descriptors\n",
    "reconstruct(complex_descriptors)\n",
    "labels[3]"
   ]
  },
  {
   "cell_type": "code",
   "execution_count": null,
   "metadata": {},
   "outputs": [],
   "source": []
  }
 ],
 "metadata": {
  "kernelspec": {
   "display_name": "Python 3",
   "language": "python",
   "name": "python3"
  }
 },
 "nbformat": 4,
 "nbformat_minor": 2
}
