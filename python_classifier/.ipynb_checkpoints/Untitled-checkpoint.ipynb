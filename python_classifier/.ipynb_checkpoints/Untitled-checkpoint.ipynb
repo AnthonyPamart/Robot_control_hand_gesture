{
 "cells": [
  {
   "cell_type": "code",
   "execution_count": 1,
   "metadata": {},
   "outputs": [],
   "source": [
    "import numpy as np\n",
    "import cv2\n",
    "\n",
    "video = cv2.VideoCapture(0)\n",
    "if video.isOpened():\n",
    "    for i in range(5):\n",
    "        check, frame = video.read()\n",
    "        if check:\n",
    "            cv2.imshow('Color Frame'+str(i), frame)\n",
    "            key = cv2.waitKey(50)\n",
    "            if key == ord('q'):\n",
    "                break\n",
    "        else:\n",
    "            print('Frame not available')\n",
    "            print(video.isOpened())"
   ]
  },
  {
   "cell_type": "code",
   "execution_count": null,
   "metadata": {},
   "outputs": [],
   "source": []
  }
 ],
 "metadata": {
  "kernelspec": {
   "display_name": "Python 2",
   "language": "python",
   "name": "python2"
  },
  "language_info": {
   "codemirror_mode": {
    "name": "ipython",
    "version": 2
   },
   "file_extension": ".py",
   "mimetype": "text/x-python",
   "name": "python",
   "nbconvert_exporter": "python",
   "pygments_lexer": "ipython2",
   "version": "2.7.12"
  }
 },
 "nbformat": 4,
 "nbformat_minor": 2
}
